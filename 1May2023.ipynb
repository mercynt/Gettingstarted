{
  "nbformat": 4,
  "nbformat_minor": 0,
  "metadata": {
    "colab": {
      "provenance": [],
      "authorship_tag": "ABX9TyP1lGk83NJWz+c1bTufM4uy",
      "include_colab_link": true
    },
    "kernelspec": {
      "name": "python3",
      "display_name": "Python 3"
    },
    "language_info": {
      "name": "python"
    }
  },
  "cells": [
    {
      "cell_type": "markdown",
      "metadata": {
        "id": "view-in-github",
        "colab_type": "text"
      },
      "source": [
        "<a href=\"https://colab.research.google.com/github/mercynt/Gettingstarted/blob/main/1May2023.ipynb\" target=\"_parent\"><img src=\"https://colab.research.google.com/assets/colab-badge.svg\" alt=\"Open In Colab\"/></a>"
      ]
    },
    {
      "cell_type": "code",
      "execution_count": null,
      "metadata": {
        "colab": {
          "base_uri": "https://localhost:8080/"
        },
        "id": "b3iYmcJZc_UK",
        "outputId": "b223fbbc-23cf-4045-87c6-2ea386643477"
      },
      "outputs": [
        {
          "output_type": "execute_result",
          "data": {
            "text/plain": [
              "5"
            ]
          },
          "metadata": {},
          "execution_count": 2
        }
      ],
      "source": [
        "10-5"
      ]
    },
    {
      "cell_type": "markdown",
      "source": [],
      "metadata": {
        "id": "VZn9fr_JWVK8"
      }
    },
    {
      "cell_type": "code",
      "source": [
        "print(tf._version_)"
      ],
      "metadata": {
        "colab": {
          "base_uri": "https://localhost:8080/",
          "height": 165
        },
        "id": "4achRR3QiK1W",
        "outputId": "9809425c-cedc-436b-fcfb-eaa06df320aa"
      },
      "execution_count": null,
      "outputs": [
        {
          "output_type": "error",
          "ename": "NameError",
          "evalue": "ignored",
          "traceback": [
            "\u001b[0;31m---------------------------------------------------------------------------\u001b[0m",
            "\u001b[0;31mNameError\u001b[0m                                 Traceback (most recent call last)",
            "\u001b[0;32m<ipython-input-3-9ede5474d7f7>\u001b[0m in \u001b[0;36m<cell line: 1>\u001b[0;34m()\u001b[0m\n\u001b[0;32m----> 1\u001b[0;31m \u001b[0mprint\u001b[0m\u001b[0;34m(\u001b[0m\u001b[0mtf\u001b[0m\u001b[0;34m.\u001b[0m\u001b[0m_version_\u001b[0m\u001b[0;34m)\u001b[0m\u001b[0;34m\u001b[0m\u001b[0;34m\u001b[0m\u001b[0m\n\u001b[0m",
            "\u001b[0;31mNameError\u001b[0m: name 'tf' is not defined"
          ]
        }
      ]
    },
    {
      "cell_type": "code",
      "source": [
        "DD"
      ],
      "metadata": {
        "id": "T0Z0GcCBBmuA"
      },
      "execution_count": null,
      "outputs": []
    },
    {
      "cell_type": "markdown",
      "source": [],
      "metadata": {
        "id": "1OASlmr_B-ek"
      }
    },
    {
      "cell_type": "markdown",
      "source": [
        "2-2"
      ],
      "metadata": {
        "id": "wksVtaC2frev"
      }
    },
    {
      "cell_type": "code",
      "source": [
        "!pip install gym"
      ],
      "metadata": {
        "id": "hBsao-9fiO-n"
      },
      "execution_count": null,
      "outputs": []
    },
    {
      "cell_type": "markdown",
      "source": [
        "0-3\n"
      ],
      "metadata": {
        "id": "jHcrfbV_fsWi"
      }
    },
    {
      "cell_type": "markdown",
      "source": [
        "# ***`[Trial](https://)`***"
      ],
      "metadata": {
        "id": "VPtImP_rf0Mq"
      }
    },
    {
      "cell_type": "markdown",
      "source": [
        "import gym"
      ],
      "metadata": {
        "id": "cBjo1ES8i88X"
      }
    },
    {
      "cell_type": "code",
      "source": [
        "import pandas as pd\n",
        "import tensorflow as tf\n",
        "\n"
      ],
      "metadata": {
        "id": "9JjNQzRNh5eL"
      },
      "execution_count": null,
      "outputs": []
    },
    {
      "cell_type": "code",
      "source": [],
      "metadata": {
        "id": "d_fRrUZUjD7A"
      },
      "execution_count": null,
      "outputs": []
    },
    {
      "cell_type": "code",
      "source": [
        "8-4"
      ],
      "metadata": {
        "colab": {
          "base_uri": "https://localhost:8080/"
        },
        "id": "HHJtdk-okrTg",
        "outputId": "7e4ef57e-bf4c-4884-8db5-b7f7ec4e40bf"
      },
      "execution_count": null,
      "outputs": [
        {
          "output_type": "execute_result",
          "data": {
            "text/plain": [
              "4"
            ]
          },
          "metadata": {},
          "execution_count": 5
        }
      ]
    },
    {
      "cell_type": "code",
      "source": [
        "4-7"
      ],
      "metadata": {
        "colab": {
          "base_uri": "https://localhost:8080/"
        },
        "id": "3eXKMHx8sW5q",
        "outputId": "bb5cd1e6-a5b6-45de-bd91-40dc7f8c18ee"
      },
      "execution_count": null,
      "outputs": [
        {
          "output_type": "execute_result",
          "data": {
            "text/plain": [
              "-3"
            ]
          },
          "metadata": {},
          "execution_count": 6
        }
      ]
    },
    {
      "cell_type": "code",
      "source": [
        "2-2"
      ],
      "metadata": {
        "colab": {
          "base_uri": "https://localhost:8080/"
        },
        "id": "IQHY9zKcsaMu",
        "outputId": "7fb52cd3-a076-4a10-9e9b-70e50842cd8d"
      },
      "execution_count": null,
      "outputs": [
        {
          "output_type": "execute_result",
          "data": {
            "text/plain": [
              "0"
            ]
          },
          "metadata": {},
          "execution_count": 7
        }
      ]
    },
    {
      "cell_type": "code",
      "source": [
        "impor"
      ],
      "metadata": {
        "id": "HA1rXriC4BvY",
        "colab": {
          "base_uri": "https://localhost:8080/",
          "height": 165
        },
        "outputId": "a9585e6d-8675-4b11-dba1-2ed2ee1f7650"
      },
      "execution_count": null,
      "outputs": [
        {
          "output_type": "error",
          "ename": "NameError",
          "evalue": "ignored",
          "traceback": [
            "\u001b[0;31m---------------------------------------------------------------------------\u001b[0m",
            "\u001b[0;31mNameError\u001b[0m                                 Traceback (most recent call last)",
            "\u001b[0;32m<ipython-input-8-534fa92c925d>\u001b[0m in \u001b[0;36m<cell line: 1>\u001b[0;34m()\u001b[0m\n\u001b[0;32m----> 1\u001b[0;31m \u001b[0mimpor\u001b[0m\u001b[0;34m\u001b[0m\u001b[0;34m\u001b[0m\u001b[0m\n\u001b[0m",
            "\u001b[0;31mNameError\u001b[0m: name 'impor' is not defined"
          ]
        }
      ]
    },
    {
      "cell_type": "markdown",
      "source": [],
      "metadata": {
        "id": "foq3bbo2scU6"
      }
    },
    {
      "cell_type": "markdown",
      "source": [
        "#Jupyter\n",
        "##sub\n",
        "i dont\n"
      ],
      "metadata": {
        "id": "0OhbXrOv44tw"
      }
    },
    {
      "cell_type": "markdown",
      "source": [
        "# Jupyter\n",
        "## Sub\n",
        "### Plain"
      ],
      "metadata": {
        "id": "5ah1aAwH5Mww"
      }
    },
    {
      "cell_type": "markdown",
      "source": [],
      "metadata": {
        "id": "CZGvc9TG5UKE"
      }
    },
    {
      "cell_type": "code",
      "source": [],
      "metadata": {
        "id": "zvV_N1DE5MP3"
      },
      "execution_count": null,
      "outputs": []
    },
    {
      "cell_type": "markdown",
      "source": [
        "My name\n",
        "\n",
        "```\n",
        "# This is formatted as code\n",
        "```![format 2.PNG](data:image/png;base64,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)\n",
        "\n"
      ],
      "metadata": {
        "id": "D4NHPGcQ5BRl"
      }
    },
    {
      "cell_type": "markdown",
      "source": [
        "![Mercy Nthiwa.jpg](data:image/jpeg;base64,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)"
      ],
      "metadata": {
        "id": "BdhiqP5jF35k"
      }
    },
    {
      "cell_type": "markdown",
      "source": [
        "[link text](https://drive.google.com/drive/u/0/folders/1xYGWyoMXHly2f62oDsWzCl16lM9C08VH)"
      ],
      "metadata": {
        "id": "AJC782O6GBkX"
      }
    },
    {
      "cell_type": "markdown",
      "source": [
        "\n",
        "\n",
        "---my name\n",
        "is mercy\n",
        "-i am atutor\n",
        "\n",
        "\n",
        "\n",
        "---\n",
        "\n",
        "\n",
        "\n",
        "---\n",
        "\n",
        "\n",
        "\n",
        "---\n",
        "\n"
      ],
      "metadata": {
        "id": "Di6NTamLGNST"
      }
    },
    {
      "cell_type": "markdown",
      "source": [
        "△\n",
        "Σ:::\n",
        "✈"
      ],
      "metadata": {
        "id": "o6eJi9mFGbnh"
      }
    },
    {
      "cell_type": "markdown",
      "source": [
        "# OLD section"
      ],
      "metadata": {
        "id": "VvbEvRpqHYe2"
      }
    },
    {
      "cell_type": "markdown",
      "source": [],
      "metadata": {
        "id": "KKm8OFKKWYo7"
      }
    },
    {
      "cell_type": "markdown",
      "source": [],
      "metadata": {
        "id": "XA5KdO7Msezj"
      }
    },
    {
      "cell_type": "code",
      "source": [],
      "metadata": {
        "id": "hTi0QEb8Uklf"
      },
      "execution_count": null,
      "outputs": []
    },
    {
      "cell_type": "markdown",
      "source": [],
      "metadata": {
        "id": "duFBu0QLUibJ"
      }
    },
    {
      "cell_type": "code",
      "source": [
        "5-4"
      ],
      "metadata": {
        "id": "JxK75vK7bt6-"
      },
      "execution_count": null,
      "outputs": []
    },
    {
      "cell_type": "markdown",
      "source": [
        "f(x) =1\\\n"
      ],
      "metadata": {
        "id": "QApd4HKsd41H"
      }
    },
    {
      "cell_type": "code",
      "source": [],
      "metadata": {
        "id": "Xm1e_qM6enYT"
      },
      "execution_count": null,
      "outputs": []
    },
    {
      "cell_type": "code",
      "source": [],
      "metadata": {
        "id": "fvTta_NJeZb7"
      },
      "execution_count": null,
      "outputs": []
    },
    {
      "cell_type": "code",
      "source": [],
      "metadata": {
        "id": "-8a9dP3ceN1M"
      },
      "execution_count": null,
      "outputs": []
    },
    {
      "cell_type": "markdown",
      "source": [
        "# Data Types\n",
        "There are 8 of them:\n",
        "1. **Int**\n",
        "2. **Float**\n",
        "3. **boolean**\n",
        "4. **String**\n",
        "5. **List** [] memonick OCD\n",
        "6. **Tuple**() OD\n",
        "7. **Set**{} - opposite of list\n",
        "8. **Dict** {}  Uncheangleable"
      ],
      "metadata": {
        "id": "s7R2TMCNwzOf"
      }
    },
    {
      "cell_type": "markdown",
      "source": [
        "### Examples"
      ],
      "metadata": {
        "id": "Cdq6P8GI0KAA"
      }
    },
    {
      "cell_type": "code",
      "source": [
        "type(-2)"
      ],
      "metadata": {
        "id": "u9gZvc4x0Spf"
      },
      "execution_count": null,
      "outputs": []
    },
    {
      "cell_type": "code",
      "source": [
        "type(10.0)"
      ],
      "metadata": {
        "id": "MdceLmBx0OND"
      },
      "execution_count": null,
      "outputs": []
    },
    {
      "cell_type": "code",
      "source": [
        "type(True)"
      ],
      "metadata": {
        "id": "aEbLXwzG0Vd4"
      },
      "execution_count": null,
      "outputs": []
    },
    {
      "cell_type": "code",
      "source": [
        "type(\"20\")"
      ],
      "metadata": {
        "id": "ayj5rORleIO6"
      },
      "execution_count": null,
      "outputs": []
    },
    {
      "cell_type": "code",
      "source": [
        "type(\"#\")"
      ],
      "metadata": {
        "id": "90V9cDr4si5O"
      },
      "execution_count": null,
      "outputs": []
    },
    {
      "cell_type": "code",
      "source": [
        "type([1,\"hello\",3])"
      ],
      "metadata": {
        "id": "79AfEDep35Lk"
      },
      "execution_count": null,
      "outputs": []
    },
    {
      "cell_type": "code",
      "source": [
        "type((1,4,200.0,3))"
      ],
      "metadata": {
        "id": "KGA2RoT-vOjG"
      },
      "execution_count": null,
      "outputs": []
    },
    {
      "cell_type": "code",
      "source": [
        "type({2,4,\"Mango\",4,5})"
      ],
      "metadata": {
        "id": "i334WOZIwfZQ"
      },
      "execution_count": null,
      "outputs": []
    },
    {
      "cell_type": "code",
      "source": [
        "type({\"Name\": [\"Mercy\", \"Mary\", \"John\"], \"Grade\": [80, 85, 70]})"
      ],
      "metadata": {
        "id": "62WO2AlB3XVG"
      },
      "execution_count": null,
      "outputs": []
    },
    {
      "cell_type": "markdown",
      "source": [
        "## Python Strings"
      ],
      "metadata": {
        "id": "3E2SRwcI4UvQ"
      }
    },
    {
      "cell_type": "markdown",
      "source": [
        "Collection of ordered characters, with quotation marks\n",
        "\n"
      ],
      "metadata": {
        "id": "9faym31Z4lL1"
      }
    },
    {
      "cell_type": "code",
      "source": [
        "print(\"Hello\")\n",
        "#is the same as\n",
        "print('Hello')"
      ],
      "metadata": {
        "id": "td5Ukule4SxC"
      },
      "execution_count": null,
      "outputs": []
    },
    {
      "cell_type": "code",
      "source": [
        "Name = \"Mercy\"\n",
        "Country =\"United Kingdom\"\n",
        "print(Name)\n",
        "print(Country)"
      ],
      "metadata": {
        "id": "ssWiv0qJ5DeG"
      },
      "execution_count": null,
      "outputs": []
    },
    {
      "cell_type": "markdown",
      "source": [
        "### Popular ftns\n",
        "### String and number interconventions\n",
        "len,\n",
        "str(),\n",
        "int(),\n",
        "float()"
      ],
      "metadata": {
        "id": "Ih940J1L5qv-"
      }
    },
    {
      "cell_type": "code",
      "source": [
        "#Length of a string\n",
        "#counts spaces!\n",
        "mystring=\"my name is Mercy\"\n",
        "len(mystring)"
      ],
      "metadata": {
        "id": "n6SwrYm85S7_"
      },
      "execution_count": null,
      "outputs": []
    },
    {
      "cell_type": "code",
      "source": [
        "#str()\n",
        "mystr=\"30\"\n",
        "myint =42\n",
        "(str(myint))\n",
        "myfloat = 12.0\n",
        "str(myfloat)\n",
        "mybool = True\n",
        "str(mybool)\n",
        "mylist = [1,2,3,4]\n",
        "str(mylist)\n",
        "mytuple =(3,6,\"Yes\")\n",
        "str(mytuple)\n",
        "myset = {\"No\", \"James\", 5}\n",
        "str(myset)\n",
        "mydict ={\"Name\":[\"Mercy\",\"Mary\",\"John\"], \"Grade\":[80,85,90]}\n",
        "(str(mydict))"
      ],
      "metadata": {
        "id": "5lW5IMZ26cGw"
      },
      "execution_count": null,
      "outputs": []
    },
    {
      "cell_type": "code",
      "source": [
        "myint =42\n",
        "myint1=(str(myint))"
      ],
      "metadata": {
        "id": "Aj14shbM7aVf"
      },
      "execution_count": null,
      "outputs": []
    },
    {
      "cell_type": "code",
      "source": [
        "print(myint1)"
      ],
      "metadata": {
        "id": "B_koe1Yz_qLx"
      },
      "execution_count": null,
      "outputs": []
    },
    {
      "cell_type": "code",
      "source": [
        "type(myint1)"
      ],
      "metadata": {
        "id": "4UgkxFOv_wgk"
      },
      "execution_count": null,
      "outputs": []
    },
    {
      "cell_type": "code",
      "source": [
        "type(myint)"
      ],
      "metadata": {
        "id": "GhAzYFKA_4Dy"
      },
      "execution_count": null,
      "outputs": []
    },
    {
      "cell_type": "code",
      "source": [
        "mydict ={\"Name\":[\"Mercy\",\"Mary\",\"John\"], \"Grade\":[80,85,90]}\n",
        "mydict1 =(str(mydict))"
      ],
      "metadata": {
        "id": "IlRopRTvANUQ"
      },
      "execution_count": null,
      "outputs": []
    },
    {
      "cell_type": "code",
      "source": [
        "type(mydict1)\n"
      ],
      "metadata": {
        "id": "gzFGU-S5BANe"
      },
      "execution_count": null,
      "outputs": []
    },
    {
      "cell_type": "code",
      "source": [
        "print(len(mydict1))\n",
        "mydict1[0]"
      ],
      "metadata": {
        "id": "Oc90Ps9PCofR"
      },
      "execution_count": null,
      "outputs": []
    },
    {
      "cell_type": "code",
      "source": [
        "type(eval(mydict1))"
      ],
      "metadata": {
        "id": "2f5OUUcLELvT"
      },
      "execution_count": null,
      "outputs": []
    },
    {
      "cell_type": "code",
      "source": [
        "#int()\n",
        "str()"
      ],
      "metadata": {
        "id": "pnnbk14xDrBN"
      },
      "execution_count": null,
      "outputs": []
    },
    {
      "cell_type": "code",
      "source": [
        "int(myfloat)\n",
        "int(mystr)\n",
        "int(mybool)"
      ],
      "metadata": {
        "id": "kbHuIGLfHfog"
      },
      "execution_count": null,
      "outputs": []
    },
    {
      "cell_type": "code",
      "source": [
        "int(myfloat)"
      ],
      "metadata": {
        "id": "7Ey12fbMRCgb"
      },
      "execution_count": null,
      "outputs": []
    },
    {
      "cell_type": "markdown",
      "source": [
        "### Special Characters\n",
        "1. \"\\\"\n",
        "2. \"\\\\\\\"\n",
        "3. \"\\=n\"\n",
        "4. \"\\=r\"\n",
        "5. \"\\=t\"\n",
        "6. \"\\=b\""
      ],
      "metadata": {
        "id": "U0SgP1_5RdIa"
      }
    },
    {
      "cell_type": "code",
      "source": [
        "#Quotes\n",
        "print(\"This is a \\\"quote\\\"\")"
      ],
      "metadata": {
        "id": "Zm9mZz5qRrOD"
      },
      "execution_count": null,
      "outputs": []
    },
    {
      "cell_type": "code",
      "source": [
        "#backslash\n",
        "print(\"This is a \\\\backslash\")"
      ],
      "metadata": {
        "id": "duDnqYhoTjLN"
      },
      "execution_count": null,
      "outputs": []
    },
    {
      "cell_type": "code",
      "source": [
        "#New line\n",
        "print(\"This is \\na new line\")"
      ],
      "metadata": {
        "id": "-AysEizIUYkx"
      },
      "execution_count": null,
      "outputs": []
    },
    {
      "cell_type": "code",
      "source": [
        "#tab space\n",
        "print(\"This is\\ta new line\")"
      ],
      "metadata": {
        "id": "_FJOV0e1U8sM"
      },
      "execution_count": null,
      "outputs": []
    },
    {
      "cell_type": "code",
      "source": [
        "#backspace\n",
        "print(\"This iss\\b a new line\")"
      ],
      "metadata": {
        "id": "AFm6JUT6V4jZ"
      },
      "execution_count": null,
      "outputs": []
    },
    {
      "cell_type": "code",
      "source": [
        "#Python strings index\n",
        "e =\"Hello\"\n",
        "print(e[0])\n",
        "print(e[1])\n",
        "print(e[2])\n",
        "print(e[3])\n",
        "print(e[4])"
      ],
      "metadata": {
        "id": "UgFOTdjwW2lM"
      },
      "execution_count": null,
      "outputs": []
    },
    {
      "cell_type": "code",
      "source": [
        "print(e[0])\n",
        "print(e[-4])\n",
        "print(e[-3])\n",
        "print(e[-2])\n",
        "print(e[-1])"
      ],
      "metadata": {
        "id": "Ptu0TMkgXNlo"
      },
      "execution_count": null,
      "outputs": []
    },
    {
      "cell_type": "markdown",
      "source": [
        "### Slicing"
      ],
      "metadata": {
        "id": "yYRJQzaBYhJ8"
      }
    },
    {
      "cell_type": "code",
      "source": [
        "e[0:4]\n",
        "#same as\n",
        "#don't include the last value\n",
        "e[:4]"
      ],
      "metadata": {
        "id": "ye2sgX3HXVqZ"
      },
      "execution_count": null,
      "outputs": []
    },
    {
      "cell_type": "code",
      "source": [
        "e[:3]\n",
        "#don't include the 3rd index"
      ],
      "metadata": {
        "id": "Fn3ykkXkZMSR"
      },
      "execution_count": null,
      "outputs": []
    },
    {
      "cell_type": "code",
      "source": [
        "e= \"Hello\""
      ],
      "metadata": {
        "id": "1xBoF4T7WFd2"
      },
      "execution_count": null,
      "outputs": []
    },
    {
      "cell_type": "code",
      "source": [
        "e[::1]"
      ],
      "metadata": {
        "colab": {
          "base_uri": "https://localhost:8080/",
          "height": 35
        },
        "id": "y1JTJGWpWVMU",
        "outputId": "00012166-a45c-49ff-e8e6-a98dfb868e49"
      },
      "execution_count": null,
      "outputs": [
        {
          "output_type": "execute_result",
          "data": {
            "text/plain": [
              "'Hello'"
            ],
            "application/vnd.google.colaboratory.intrinsic+json": {
              "type": "string"
            }
          },
          "metadata": {},
          "execution_count": 12
        }
      ]
    },
    {
      "cell_type": "code",
      "source": [
        "e[::-1]"
      ],
      "metadata": {
        "colab": {
          "base_uri": "https://localhost:8080/",
          "height": 35
        },
        "id": "XF6N0wSMWfqN",
        "outputId": "2071ef55-2179-42eb-db3f-994ddf809b2d"
      },
      "execution_count": null,
      "outputs": [
        {
          "output_type": "execute_result",
          "data": {
            "text/plain": [
              "'olleH'"
            ],
            "application/vnd.google.colaboratory.intrinsic+json": {
              "type": "string"
            }
          },
          "metadata": {},
          "execution_count": 13
        }
      ]
    },
    {
      "cell_type": "code",
      "source": [
        "e"
      ],
      "metadata": {
        "id": "nDU3QaJ9WZPZ"
      },
      "execution_count": null,
      "outputs": []
    },
    {
      "cell_type": "markdown",
      "source": [],
      "metadata": {
        "id": "bxhFrbX-WE4r"
      }
    },
    {
      "cell_type": "code",
      "source": [
        "e[2:]\n",
        "#from index 2"
      ],
      "metadata": {
        "id": "hITqZInGY7WS"
      },
      "execution_count": null,
      "outputs": []
    },
    {
      "cell_type": "code",
      "source": [
        "e[4:]\n",
        "#from index 4"
      ],
      "metadata": {
        "id": "znx5rhUtZqDe"
      },
      "execution_count": null,
      "outputs": []
    },
    {
      "cell_type": "code",
      "source": [
        "e[1:4:1]\n",
        "#DOEST include 4th index\n",
        "#same as\n",
        "e[1:4] #jumps/step 1 value by default"
      ],
      "metadata": {
        "id": "o6cMT9Ria4nn"
      },
      "execution_count": null,
      "outputs": []
    },
    {
      "cell_type": "code",
      "source": [
        "e[::2]\n",
        "#START:STOP:STEP\n",
        "#HELLO"
      ],
      "metadata": {
        "id": "FyC9ogDKdvu2"
      },
      "execution_count": null,
      "outputs": []
    },
    {
      "cell_type": "code",
      "source": [
        "g= \"Avado Learning\"\n",
        "g[::3]"
      ],
      "metadata": {
        "id": "Zt4jAq5Xe2F_"
      },
      "execution_count": null,
      "outputs": []
    },
    {
      "cell_type": "code",
      "source": [
        "e[::]"
      ],
      "metadata": {
        "id": "1yPUgaP9fTYV"
      },
      "execution_count": null,
      "outputs": []
    },
    {
      "cell_type": "code",
      "source": [
        "e[::-1]"
      ],
      "metadata": {
        "id": "qKEySVSxfcFt"
      },
      "execution_count": null,
      "outputs": []
    },
    {
      "cell_type": "code",
      "source": [
        "string = \"I like python\\n\"*5\n",
        "print(string)"
      ],
      "metadata": {
        "id": "xMibxKcmduJ1"
      },
      "execution_count": null,
      "outputs": []
    },
    {
      "cell_type": "code",
      "source": [
        "for i in range (5):\n",
        "  print(\"I like Python\")"
      ],
      "metadata": {
        "id": "2ArWI3ZEkvXo"
      },
      "execution_count": null,
      "outputs": []
    },
    {
      "cell_type": "code",
      "source": [
        "\"10\"+\"6\""
      ],
      "metadata": {
        "id": "rr3_IjiTlaQm"
      },
      "execution_count": null,
      "outputs": []
    },
    {
      "cell_type": "markdown",
      "source": [
        "### Strings are immutable"
      ],
      "metadata": {
        "id": "rSpC5HawloAK"
      }
    },
    {
      "cell_type": "code",
      "source": [
        "string3=\"errpr\"\n",
        "string3[3]=\"o\""
      ],
      "metadata": {
        "colab": {
          "base_uri": "https://localhost:8080/",
          "height": 183
        },
        "id": "9eFyc8Nln2pi",
        "outputId": "e157e3e2-2839-422a-abbb-05da8ebe6c07"
      },
      "execution_count": null,
      "outputs": [
        {
          "output_type": "error",
          "ename": "TypeError",
          "evalue": "ignored",
          "traceback": [
            "\u001b[0;31m---------------------------------------------------------------------------\u001b[0m",
            "\u001b[0;31mTypeError\u001b[0m                                 Traceback (most recent call last)",
            "\u001b[0;32m<ipython-input-15-0c0401a5199f>\u001b[0m in \u001b[0;36m<cell line: 2>\u001b[0;34m()\u001b[0m\n\u001b[1;32m      1\u001b[0m \u001b[0mstring3\u001b[0m\u001b[0;34m=\u001b[0m\u001b[0;34m\"errpr\"\u001b[0m\u001b[0;34m\u001b[0m\u001b[0;34m\u001b[0m\u001b[0m\n\u001b[0;32m----> 2\u001b[0;31m \u001b[0mstring3\u001b[0m\u001b[0;34m[\u001b[0m\u001b[0;36m3\u001b[0m\u001b[0;34m]\u001b[0m\u001b[0;34m=\u001b[0m\u001b[0;34m\"o\"\u001b[0m\u001b[0;34m\u001b[0m\u001b[0;34m\u001b[0m\u001b[0m\n\u001b[0m",
            "\u001b[0;31mTypeError\u001b[0m: 'str' object does not support item assignment"
          ]
        }
      ]
    },
    {
      "cell_type": "code",
      "source": [
        "string5=\"error\"\n",
        "print(id(string5))\n",
        "string5=\"errpr\"\n",
        "print(id(string5))"
      ],
      "metadata": {
        "colab": {
          "base_uri": "https://localhost:8080/"
        },
        "id": "ra0se3ZIq4oM",
        "outputId": "e6d3a7b6-f749-45c5-f2d2-8c980add8f03"
      },
      "execution_count": null,
      "outputs": [
        {
          "output_type": "stream",
          "name": "stdout",
          "text": [
            "140433226479536\n",
            "140430457069168\n"
          ]
        }
      ]
    },
    {
      "cell_type": "code",
      "source": [
        "string3=\"errpr\"\n",
        "string3.replace(\"p\",\"o\")\n",
        "print(string3)"
      ],
      "metadata": {
        "colab": {
          "base_uri": "https://localhost:8080/"
        },
        "id": "k2wrrh70wLfB",
        "outputId": "e3c7cce0-7c0f-41ff-c944-708dc4338a01"
      },
      "execution_count": null,
      "outputs": [
        {
          "output_type": "stream",
          "name": "stdout",
          "text": [
            "errpr\n"
          ]
        }
      ]
    },
    {
      "cell_type": "code",
      "source": [
        "string3=\"errpr\"\n",
        "string4=string3.replace(\"p\",\"o\")\n",
        "print(string3)\n",
        "print(string4)"
      ],
      "metadata": {
        "colab": {
          "base_uri": "https://localhost:8080/"
        },
        "id": "v9TygwBBoxrr",
        "outputId": "9ce30a28-2955-4557-ca14-a15460153823"
      },
      "execution_count": null,
      "outputs": [
        {
          "output_type": "stream",
          "name": "stdout",
          "text": [
            "errpr\n",
            "error\n"
          ]
        }
      ]
    },
    {
      "cell_type": "markdown",
      "source": [
        "### strings functions"
      ],
      "metadata": {
        "id": "ubli4DEYbBq7"
      }
    },
    {
      "cell_type": "code",
      "source": [
        "string3.capitalize()"
      ],
      "metadata": {
        "colab": {
          "base_uri": "https://localhost:8080/",
          "height": 35
        },
        "id": "J2T4K4w6n1J6",
        "outputId": "6496f6e7-55c5-4366-9d0a-eb86a39bfb39"
      },
      "execution_count": null,
      "outputs": [
        {
          "output_type": "execute_result",
          "data": {
            "text/plain": [
              "'Errpr'"
            ],
            "application/vnd.google.colaboratory.intrinsic+json": {
              "type": "string"
            }
          },
          "metadata": {},
          "execution_count": 19
        }
      ]
    },
    {
      "cell_type": "code",
      "source": [
        "string3.casefold()"
      ],
      "metadata": {
        "colab": {
          "base_uri": "https://localhost:8080/",
          "height": 35
        },
        "id": "TuckrVeFxmLR",
        "outputId": "a77a5e09-2d1f-4fac-f46b-a0528ff008cf"
      },
      "execution_count": null,
      "outputs": [
        {
          "output_type": "execute_result",
          "data": {
            "text/plain": [
              "'errpr'"
            ],
            "application/vnd.google.colaboratory.intrinsic+json": {
              "type": "string"
            }
          },
          "metadata": {},
          "execution_count": 20
        }
      ]
    },
    {
      "cell_type": "code",
      "source": [
        "string3.center(20,\"x\")"
      ],
      "metadata": {
        "colab": {
          "base_uri": "https://localhost:8080/",
          "height": 35
        },
        "id": "r7OiFqe5yAql",
        "outputId": "e0cc5a08-58a4-444f-faa1-28031e629c71"
      },
      "execution_count": null,
      "outputs": [
        {
          "output_type": "execute_result",
          "data": {
            "text/plain": [
              "'xxxxxxxerrprxxxxxxxx'"
            ],
            "application/vnd.google.colaboratory.intrinsic+json": {
              "type": "string"
            }
          },
          "metadata": {},
          "execution_count": 21
        }
      ]
    },
    {
      "cell_type": "code",
      "source": [
        "string3.endswith(\"pr\")"
      ],
      "metadata": {
        "colab": {
          "base_uri": "https://localhost:8080/"
        },
        "id": "3wDBbXS1yQSv",
        "outputId": "ed3e9256-9511-415f-c2c8-9df9133e2572"
      },
      "execution_count": null,
      "outputs": [
        {
          "output_type": "execute_result",
          "data": {
            "text/plain": [
              "True"
            ]
          },
          "metadata": {},
          "execution_count": 22
        }
      ]
    },
    {
      "cell_type": "code",
      "source": [
        "string3.count(\"r\")"
      ],
      "metadata": {
        "colab": {
          "base_uri": "https://localhost:8080/"
        },
        "id": "o4odHp3mtAXL",
        "outputId": "9e290e59-9a6b-4352-ee0e-bb1f891cae47"
      },
      "execution_count": null,
      "outputs": [
        {
          "output_type": "execute_result",
          "data": {
            "text/plain": [
              "3"
            ]
          },
          "metadata": {},
          "execution_count": 23
        }
      ]
    },
    {
      "cell_type": "code",
      "source": [
        "string3.find(\"r\")"
      ],
      "metadata": {
        "colab": {
          "base_uri": "https://localhost:8080/"
        },
        "id": "h8lUxLZdttxC",
        "outputId": "e64c51cd-4198-46fd-a750-77771893a2ae"
      },
      "execution_count": null,
      "outputs": [
        {
          "output_type": "execute_result",
          "data": {
            "text/plain": [
              "1"
            ]
          },
          "metadata": {},
          "execution_count": 24
        }
      ]
    },
    {
      "cell_type": "code",
      "source": [
        "string3=\"errpr\"\n",
        "string4=string3.replace(\"p\",\"o\").replace(\"r\",\"m\")\n",
        "print(string4)"
      ],
      "metadata": {
        "colab": {
          "base_uri": "https://localhost:8080/"
        },
        "id": "nl0cvbCHudEY",
        "outputId": "516fa71e-3a5c-427f-fbce-c3bf8270751c"
      },
      "execution_count": null,
      "outputs": [
        {
          "output_type": "stream",
          "name": "stdout",
          "text": [
            "emmom\n"
          ]
        }
      ]
    },
    {
      "cell_type": "code",
      "source": [
        "string3=\"errpr\"\n",
        "string10=string3.split(\"r\")\n",
        "print(string10)"
      ],
      "metadata": {
        "colab": {
          "base_uri": "https://localhost:8080/"
        },
        "id": "B2sbzF4WvB_5",
        "outputId": "10fb3a57-1b54-403c-8092-45f6b97fb8e3"
      },
      "execution_count": null,
      "outputs": [
        {
          "output_type": "stream",
          "name": "stdout",
          "text": [
            "['e', '', 'p', '']\n"
          ]
        }
      ]
    },
    {
      "cell_type": "markdown",
      "source": [
        "### String Formatting"
      ],
      "metadata": {
        "id": "Croh39Q77LXp"
      }
    },
    {
      "cell_type": "code",
      "source": [
        "i= \"I am {}\"\n",
        "j = 40\n",
        "k=i.format(j)\n",
        "k"
      ],
      "metadata": {
        "colab": {
          "base_uri": "https://localhost:8080/",
          "height": 35
        },
        "id": "d5KN5V-E9JVE",
        "outputId": "0388fdf8-92fd-4097-b813-9e335468bcb0"
      },
      "execution_count": null,
      "outputs": [
        {
          "output_type": "execute_result",
          "data": {
            "text/plain": [
              "'I am 40'"
            ],
            "application/vnd.google.colaboratory.intrinsic+json": {
              "type": "string"
            }
          },
          "metadata": {},
          "execution_count": 27
        }
      ]
    },
    {
      "cell_type": "code",
      "source": [
        "string8=\"my {} will be {} by next April\"\n",
        "pay = \"salary\"\n",
        "wage = 5000\n",
        "string8.format(pay,wage)"
      ],
      "metadata": {
        "colab": {
          "base_uri": "https://localhost:8080/",
          "height": 35
        },
        "id": "xLEagvTA7HNG",
        "outputId": "96967fb7-a39c-4705-fb87-1b78753010e3"
      },
      "execution_count": null,
      "outputs": [
        {
          "output_type": "execute_result",
          "data": {
            "text/plain": [
              "'my salary will be 5000 by next April'"
            ],
            "application/vnd.google.colaboratory.intrinsic+json": {
              "type": "string"
            }
          },
          "metadata": {},
          "execution_count": 2
        }
      ]
    },
    {
      "cell_type": "code",
      "source": [
        "weight =5\n",
        "product =\"Apples\"\n",
        "string9=\"I bought {} kg of {} that cost me {} pounds\"\n",
        "print(string9.format(weight,product,20))\n"
      ],
      "metadata": {
        "colab": {
          "base_uri": "https://localhost:8080/"
        },
        "id": "9Eulst9tH1uj",
        "outputId": "4f906bd4-2e6a-4309-aa9b-0b00d49982fd"
      },
      "execution_count": null,
      "outputs": [
        {
          "output_type": "stream",
          "name": "stdout",
          "text": [
            "I bought 5 kg of Apples that cost me 20 pounds\n"
          ]
        }
      ]
    },
    {
      "cell_type": "code",
      "source": [
        "weight =5\n",
        "product =\"Apples\"\n",
        "string9=\"I bought {2} kg of {1} that cost me {0} pounds\"\n",
        "print(string9.format(20,product,weight))"
      ],
      "metadata": {
        "colab": {
          "base_uri": "https://localhost:8080/"
        },
        "id": "KdU8l7Gf-s7y",
        "outputId": "7e3ba23c-8d43-4e28-beaf-b2ed64cf684b"
      },
      "execution_count": null,
      "outputs": [
        {
          "output_type": "stream",
          "name": "stdout",
          "text": [
            "I bought 5 kg of Apples that cost me 20 pounds\n"
          ]
        }
      ]
    },
    {
      "cell_type": "code",
      "source": [
        "weight =5\n",
        "product =\"Apples\"\n",
        "string9=\"I bought {c} kg of {a} that cost me {b} pounds\"\n",
        "print(string9.format(c=weight,a=product,b=20))"
      ],
      "metadata": {
        "colab": {
          "base_uri": "https://localhost:8080/"
        },
        "id": "VGG3iDSn6-tI",
        "outputId": "903b0a06-3bea-463a-f80a-f5c4a70990bd"
      },
      "execution_count": null,
      "outputs": [
        {
          "output_type": "stream",
          "name": "stdout",
          "text": [
            "I bought 5 kg of Apples that cost me 20 pounds\n"
          ]
        }
      ]
    },
    {
      "cell_type": "code",
      "source": [
        "grade=50/7\n",
        "formatted_grade = \"{:.4f}\".format(grade)\n",
        "print(formatted_grade)\n"
      ],
      "metadata": {
        "colab": {
          "base_uri": "https://localhost:8080/"
        },
        "id": "F8g29I6m9YQ-",
        "outputId": "e07ba046-1ba0-4bf8-9d72-0167e82cbf46"
      },
      "execution_count": null,
      "outputs": [
        {
          "output_type": "stream",
          "name": "stdout",
          "text": [
            "7.1429\n"
          ]
        }
      ]
    },
    {
      "cell_type": "code",
      "source": [
        "string9=\"I bought %d kg of %s that cost me %f pounds\"%(5,\"apples\",20.5)\n",
        "print(string9)"
      ],
      "metadata": {
        "colab": {
          "base_uri": "https://localhost:8080/"
        },
        "id": "D7hCsv37_r-1",
        "outputId": "8b733823-9e70-48d9-d908-c75c3afb008d"
      },
      "execution_count": null,
      "outputs": [
        {
          "output_type": "stream",
          "name": "stdout",
          "text": [
            "I bought 5 kg of apples that cost me 20.500000 pounds\n"
          ]
        }
      ]
    },
    {
      "cell_type": "code",
      "source": [
        "float =11.6\n",
        "no = 20\n",
        "fill =\"something\"\n",
        "print(\"This string has %a missing\" %\"dozen\")"
      ],
      "metadata": {
        "colab": {
          "base_uri": "https://localhost:8080/"
        },
        "id": "GMi-ooU2vtbz",
        "outputId": "306d6b3b-ccd3-4d3f-d445-f402506a6923"
      },
      "execution_count": null,
      "outputs": [
        {
          "output_type": "stream",
          "name": "stdout",
          "text": [
            "This string has 'dozen' missing\n"
          ]
        }
      ]
    },
    {
      "cell_type": "code",
      "source": [
        "print(\"I am roaming %s and %s \"%(\"here\",\"there\"))"
      ],
      "metadata": {
        "colab": {
          "base_uri": "https://localhost:8080/"
        },
        "id": "S_0QRcicwWkX",
        "outputId": "a921b13b-66e0-4f9c-d1e1-f97c89e30e9f"
      },
      "execution_count": null,
      "outputs": [
        {
          "output_type": "stream",
          "name": "stdout",
          "text": [
            "I am roaming here and there \n"
          ]
        }
      ]
    },
    {
      "cell_type": "code",
      "source": [
        "print(\"Here is a placeholder for %s %d and %.2f\" %(\"numbers\", 20, 10))"
      ],
      "metadata": {
        "colab": {
          "base_uri": "https://localhost:8080/"
        },
        "id": "5pStYtqU0qOR",
        "outputId": "c5ead515-1ae7-4a0d-9267-015e1fdae609"
      },
      "execution_count": null,
      "outputs": [
        {
          "output_type": "stream",
          "name": "stdout",
          "text": [
            "Here is a placeholder for numbers 20 and 10.00\n"
          ]
        }
      ]
    },
    {
      "cell_type": "code",
      "source": [
        "print(\"Here is a placeholder for %s %d and %.2f\" % (\"numbers\", 20, 10.67888))\n"
      ],
      "metadata": {
        "colab": {
          "base_uri": "https://localhost:8080/"
        },
        "id": "jLXEt71t7r0R",
        "outputId": "0d0510c3-6e90-476a-9bc4-6965e7ea53bc"
      },
      "execution_count": null,
      "outputs": [
        {
          "output_type": "stream",
          "name": "stdout",
          "text": [
            "Here is a placeholder for numbers 20 and 10.68\n"
          ]
        }
      ]
    },
    {
      "cell_type": "code",
      "source": [
        "#SKIP\n",
        "value= 10.67888987\n",
        "rounded=\"{:.2f}\".format(value)\n",
        "print(\"Here is a placeholder for %s %d and %s\" % (\"numbers\", 20, rounded))\n"
      ],
      "metadata": {
        "colab": {
          "base_uri": "https://localhost:8080/"
        },
        "id": "2SHDumij75om",
        "outputId": "4478fff0-7b96-487a-c633-ea933c4f1519"
      },
      "execution_count": null,
      "outputs": [
        {
          "output_type": "stream",
          "name": "stdout",
          "text": [
            "Here is a placeholder for numbers 20 and 10.68\n"
          ]
        }
      ]
    },
    {
      "cell_type": "code",
      "source": [
        "#SKIP\n",
        "import math\n",
        "\n",
        "value = 10.67888\n",
        "rounded = math.floor(value*100)/100\n",
        "\n",
        "print(\"Here is a placeholder for %s %d and %.2f\" % (\"numbers\", 20, rounded))\n"
      ],
      "metadata": {
        "colab": {
          "base_uri": "https://localhost:8080/"
        },
        "id": "_c8CFAZo9Kur",
        "outputId": "8e8a262f-ed10-4628-e1b6-b753c665c27e"
      },
      "execution_count": null,
      "outputs": [
        {
          "output_type": "stream",
          "name": "stdout",
          "text": [
            "Here is a placeholder for numbers 20 and 10.67\n"
          ]
        }
      ]
    },
    {
      "cell_type": "code",
      "source": [
        "#SKIP\n",
        "marks ={80,70,75,60}\n",
        "print(\"My grades are %s\" %marks)"
      ],
      "metadata": {
        "colab": {
          "base_uri": "https://localhost:8080/"
        },
        "id": "vIT8_IgL9KiU",
        "outputId": "aac6c75c-9842-4900-82aa-986bf8468f6e"
      },
      "execution_count": null,
      "outputs": [
        {
          "output_type": "stream",
          "name": "stdout",
          "text": [
            "My grades are {80, 75, 60, 70}\n"
          ]
        }
      ]
    },
    {
      "cell_type": "markdown",
      "source": [
        "### NUMERIC OPERATIONS"
      ],
      "metadata": {
        "id": "Fhv5A9MUKcMc"
      }
    },
    {
      "cell_type": "code",
      "source": [
        "5+4"
      ],
      "metadata": {
        "id": "neaEbHhdKgLW"
      },
      "execution_count": null,
      "outputs": []
    },
    {
      "cell_type": "code",
      "source": [
        "5-4"
      ],
      "metadata": {
        "id": "Or2glRORKjKt"
      },
      "execution_count": null,
      "outputs": []
    },
    {
      "cell_type": "code",
      "source": [
        "5*3"
      ],
      "metadata": {
        "id": "ecMDlU7wKksw"
      },
      "execution_count": null,
      "outputs": []
    },
    {
      "cell_type": "code",
      "source": [
        "h=5/2\n",
        "\n",
        "\n",
        "#SKIP\n",
        "print(\"{:.2f}\".format(h))\n",
        "\n",
        "h = 5 / 2\n",
        "print(f\"{h:.2f}\")\n",
        "\n",
        "import math\n",
        "h = 5 / 2\n",
        "rounded_down = math.floor(h*100)/100\n",
        "print(rounded_down)\n",
        "\n",
        "h = 5 / 2\n",
        "rounded_h = round(h*100/100, 2)\n",
        "print(rounded_h)\n"
      ],
      "metadata": {
        "id": "nf9ToMPvKme1"
      },
      "execution_count": null,
      "outputs": []
    },
    {
      "cell_type": "code",
      "source": [
        "5%2"
      ],
      "metadata": {
        "id": "yo5IBl7MKssr"
      },
      "execution_count": null,
      "outputs": []
    },
    {
      "cell_type": "code",
      "source": [
        "5%3"
      ],
      "metadata": {
        "id": "AkLtq8XdK4LJ"
      },
      "execution_count": null,
      "outputs": []
    },
    {
      "cell_type": "code",
      "source": [
        "5**2"
      ],
      "metadata": {
        "id": "hY2prIgjKucR"
      },
      "execution_count": null,
      "outputs": []
    },
    {
      "cell_type": "code",
      "source": [
        "(5+3*6/12)**2"
      ],
      "metadata": {
        "id": "15YsCmwfLgcQ"
      },
      "execution_count": null,
      "outputs": []
    },
    {
      "cell_type": "markdown",
      "source": [
        "### BOOLEAN"
      ],
      "metadata": {
        "id": "dXPb8Tw2MtJ6"
      }
    },
    {
      "cell_type": "code",
      "source": [
        "True"
      ],
      "metadata": {
        "id": "EbY6GLceMv3M"
      },
      "execution_count": null,
      "outputs": []
    },
    {
      "cell_type": "code",
      "source": [
        "False"
      ],
      "metadata": {
        "id": "dIJ8cOiGM3zY"
      },
      "execution_count": null,
      "outputs": []
    },
    {
      "cell_type": "code",
      "source": [
        "true"
      ],
      "metadata": {
        "id": "XY8Q2UCmM7UB"
      },
      "execution_count": null,
      "outputs": []
    },
    {
      "cell_type": "markdown",
      "source": [
        "Comparison"
      ],
      "metadata": {
        "id": "wN_tBWm-NOxm"
      }
    },
    {
      "cell_type": "code",
      "source": [
        "3==7"
      ],
      "metadata": {
        "id": "tMfkoPPSNN5e"
      },
      "execution_count": null,
      "outputs": []
    },
    {
      "cell_type": "code",
      "source": [
        "6>3"
      ],
      "metadata": {
        "id": "M8ZFRG7vPArJ"
      },
      "execution_count": null,
      "outputs": []
    },
    {
      "cell_type": "code",
      "source": [
        "x=4\n",
        "y=16\n",
        "x**2==y"
      ],
      "metadata": {
        "id": "Hh5PAPdxPDwy"
      },
      "execution_count": null,
      "outputs": []
    },
    {
      "cell_type": "code",
      "source": [
        "r=5.3\n",
        "pi=3.14\n",
        "circum=2*pi*r\n",
        "print(circum)\n",
        "circum>15"
      ],
      "metadata": {
        "id": "J6PqX7AhPLIS"
      },
      "execution_count": null,
      "outputs": []
    },
    {
      "cell_type": "markdown",
      "source": [
        "### Logical"
      ],
      "metadata": {
        "id": "CNvfkZ4fPt3y"
      }
    },
    {
      "cell_type": "code",
      "source": [
        "a=5\n",
        "b=3\n",
        "c=7\n",
        "a>b and a>c"
      ],
      "metadata": {
        "id": "tqH-YP1VPwU1"
      },
      "execution_count": null,
      "outputs": []
    },
    {
      "cell_type": "code",
      "source": [
        "a>b or a>c"
      ],
      "metadata": {
        "id": "oicdwhZiP7W1"
      },
      "execution_count": null,
      "outputs": []
    },
    {
      "cell_type": "code",
      "source": [
        "not (a>b)\n",
        "#OR\n",
        "not a>b"
      ],
      "metadata": {
        "id": "AUvGWTJiQBHb"
      },
      "execution_count": null,
      "outputs": []
    },
    {
      "cell_type": "markdown",
      "source": [
        "### Variables"
      ],
      "metadata": {
        "id": "pVD4LRoORmRK"
      }
    },
    {
      "cell_type": "code",
      "source": [
        "Varname =\"Hey\"\n",
        "varname=\"Hey\"\n",
        "_varname=\"Hey\"\n",
        "var_name=\"Hey\"\n",
        "VARNAME=\"Hey\"\n",
        "var_2name=\"Hey\""
      ],
      "metadata": {
        "id": "7swlLQveQsE3"
      },
      "execution_count": null,
      "outputs": []
    },
    {
      "cell_type": "code",
      "source": [
        "#Incorrect\n",
        "2var=\"hey\"\n",
        "var-name=\"hey\"\n",
        "var name =\"hey\""
      ],
      "metadata": {
        "id": "R9UpWTGLSC_P"
      },
      "execution_count": null,
      "outputs": []
    },
    {
      "cell_type": "markdown",
      "source": [
        "### Help"
      ],
      "metadata": {
        "id": "Zy6nsZdaTuFH"
      }
    },
    {
      "cell_type": "code",
      "source": [
        "round"
      ],
      "metadata": {
        "id": "GztLw3j_UZLX"
      },
      "execution_count": null,
      "outputs": []
    },
    {
      "cell_type": "code",
      "source": [
        "sorted()"
      ],
      "metadata": {
        "id": "vlxMDxGaVN-d"
      },
      "execution_count": null,
      "outputs": []
    },
    {
      "cell_type": "code",
      "source": [
        "print??"
      ],
      "metadata": {
        "id": "gva33xfqWrxN"
      },
      "execution_count": null,
      "outputs": []
    },
    {
      "cell_type": "code",
      "source": [
        "sorted??\n"
      ],
      "metadata": {
        "id": "-iX0SZ-vVjoR"
      },
      "execution_count": null,
      "outputs": []
    },
    {
      "cell_type": "code",
      "source": [
        "a = \"Hello, World!\"\n",
        "b=a.replace(\"l\", \"J\").replace(\"o\",\"n\").replace(\"m\",\"Y\")\n",
        "b"
      ],
      "metadata": {
        "id": "ZW3gRHYuMot1"
      },
      "execution_count": null,
      "outputs": []
    },
    {
      "cell_type": "code",
      "source": [
        "#OR\n",
        "firstattempt = \"Helo, word!\"\n",
        "\n",
        "#slicing and concatenation\n",
        "correct = firstattempt[:3] + \"l\" + firstattempt[3:9] + \"l\" + firstattempt[9:]\n",
        "\n",
        "print(correct)"
      ],
      "metadata": {
        "id": "KPoOMPri3nEb"
      },
      "execution_count": null,
      "outputs": []
    },
    {
      "cell_type": "code",
      "source": [
        "string = \"M y N ame is M ercy\"\n",
        "updated_string = string.replace(\" \", \"\")\n",
        "print(updated_string)\n"
      ],
      "metadata": {
        "id": "mu3iMpm2OFBA"
      },
      "execution_count": null,
      "outputs": []
    },
    {
      "cell_type": "code",
      "source": [
        "txt = \"Hello\\rWorl\\rd!\"\n",
        "print(txt)"
      ],
      "metadata": {
        "id": "Ap9rgS5UWQrK"
      },
      "execution_count": null,
      "outputs": []
    },
    {
      "cell_type": "code",
      "source": [
        "#A backslash followed by an 'x' and a hex number represents a hex value:\n",
        "txt = \"\\x48\\x65\\x6c\\x6c\\x6f\"\n",
        "print(txt)"
      ],
      "metadata": {
        "id": "ukFgXdCwYCKj"
      },
      "execution_count": null,
      "outputs": []
    },
    {
      "cell_type": "code",
      "source": [
        "#A backslash followed by three integers will result in a octal value:\n",
        "txt = \"\\110\\145\\154\\154\\157\"\n",
        "print(txt)"
      ],
      "metadata": {
        "id": "snjc4NTNYHtd"
      },
      "execution_count": null,
      "outputs": []
    },
    {
      "cell_type": "code",
      "source": [
        "a= \"my name is mercy\""
      ],
      "metadata": {
        "id": "Qj3w49URYTMg"
      },
      "execution_count": null,
      "outputs": []
    },
    {
      "cell_type": "code",
      "source": [
        "a.capitalize()"
      ],
      "metadata": {
        "id": "r-Zz4EuCYcW0"
      },
      "execution_count": null,
      "outputs": []
    },
    {
      "cell_type": "code",
      "source": [
        "f = \"my name is mercy\"\n",
        "capitalized = f.replace(\"m\", \"M\", 1)\n",
        "print(capitalized)"
      ],
      "metadata": {
        "id": "ooc0s2YaZJnU"
      },
      "execution_count": null,
      "outputs": []
    },
    {
      "cell_type": "code",
      "source": [
        "sentence = \"my name is mercy\"\n",
        "result = sentence.capitalize()\n",
        "print(result)"
      ],
      "metadata": {
        "id": "nuVI0Irbi4xQ"
      },
      "execution_count": null,
      "outputs": []
    },
    {
      "cell_type": "code",
      "source": [
        "sentence = \"my name is mercy\"\n",
        "result = sentence.replace(\"n\", \"N\", 2)\n",
        "print(result)"
      ],
      "metadata": {
        "id": "x1GPgZH6i_MA"
      },
      "execution_count": null,
      "outputs": []
    },
    {
      "cell_type": "code",
      "source": [
        "sentence = \"my name is mercy\"\n",
        "result = sentence.replace(\"m\", \"M\", 1)\n",
        "print(result)"
      ],
      "metadata": {
        "id": "0HezSAWRjKjH"
      },
      "execution_count": null,
      "outputs": []
    },
    {
      "cell_type": "code",
      "source": [
        "sentence = \"my name is mercy\"\n",
        "result = sentence.replace(\"m\", \"M\", 3)\n",
        "print(result)"
      ],
      "metadata": {
        "id": "ejpZhsPIjpxV"
      },
      "execution_count": null,
      "outputs": []
    },
    {
      "cell_type": "code",
      "source": [
        "sentence = \"my name is mercy\"\n",
        "result = sentence.replace(\"m\", \"M\", 1).replace(\"n\", \"N\", 1)\n",
        "print(result)"
      ],
      "metadata": {
        "id": "iJeaGT1bjUbc"
      },
      "execution_count": null,
      "outputs": []
    }
  ]
}